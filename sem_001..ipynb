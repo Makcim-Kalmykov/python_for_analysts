{
 "cells": [
  {
   "attachments": {},
   "cell_type": "markdown",
   "metadata": {},
   "source": [
    "## Задача 1\n",
    "### 1.1 Соедините два словаря в один"
   ]
  },
  {
   "cell_type": "code",
   "execution_count": 1,
   "metadata": {},
   "outputs": [],
   "source": [
    "dict1 = {'One': 1, 'Two': 2, 'Three': 3}\n",
    "dict2 = {'Four': 4, 'Five': 5, 'Six': 6}"
   ]
  },
  {
   "cell_type": "code",
   "execution_count": 5,
   "metadata": {},
   "outputs": [
    {
     "name": "stdout",
     "output_type": "stream",
     "text": [
      "{'One': 1, 'Two': 2, 'Three': 3, 'Four': 4, 'Five': 5, 'Six': 6}\n"
     ]
    }
   ],
   "source": [
    "dict1.update(dict2)                                 # ОБЬЪЕДИНЕНИЕ СЛОВАРЕЙ\n",
    "print(dict1)"
   ]
  },
  {
   "attachments": {},
   "cell_type": "markdown",
   "metadata": {},
   "source": [
    "### 1.2 Напишите функцию, которая на вход принимает два словаря и возвращает один объединенный словарь\n",
    "Используйте аннотирование типов"
   ]
  },
  {
   "cell_type": "code",
   "execution_count": 9,
   "metadata": {},
   "outputs": [
    {
     "name": "stdout",
     "output_type": "stream",
     "text": [
      "{'One': 1, 'Two': 2, 'Three': 3, 'Four': 4, 'Five': 5, 'Six': 6}\n"
     ]
    }
   ],
   "source": [
    "def merge (dict1: dict, dict2: dict) -> dict:           # dict1: dict - указываем тип словарь;  -> dict - указываем, что на выходе будет словарь\n",
    "    dict1.update(dict2)\n",
    "    return dict1                     \n",
    "\n",
    "dict1 = {'One': 1, 'Two': 2, 'Three': 3}\n",
    "dict2 = {'Four': 4, 'Five': 5, 'Six': 6}\n",
    "\n",
    "print(merge(dict1, dict2))"
   ]
  },
  {
   "attachments": {},
   "cell_type": "markdown",
   "metadata": {},
   "source": [
    "## Задача 2\n",
    "### Напишите функцию, которая из двух списков, делает один словарь, где элементы из первого списка - ключи, а элементы из второго списка - значения"
   ]
  },
  {
   "cell_type": "code",
   "execution_count": 12,
   "metadata": {},
   "outputs": [
    {
     "name": "stdout",
     "output_type": "stream",
     "text": [
      "{'One': 1, 'Two': 2, 'Three': 3}\n"
     ]
    }
   ],
   "source": [
    "def get_dict (keys: list, values: list) -> dict:\n",
    "    if len(keys) != len(values):\n",
    "        return None \n",
    "    rez = dict()\n",
    "    for i in range(len(keys)):\n",
    "        rez[keys[i]] = values[i]\n",
    "    return rez\n",
    "\n",
    "\n",
    "keys = ['One', 'Two', 'Three']\n",
    "values = [1, 2, 3]\n",
    "\n",
    "print(get_dict(keys, values))"
   ]
  },
  {
   "attachments": {},
   "cell_type": "markdown",
   "metadata": {},
   "source": [
    "## 2.2 2.2 Используя dict comprehensions"
   ]
  },
  {
   "cell_type": "code",
   "execution_count": 17,
   "metadata": {},
   "outputs": [
    {
     "name": "stdout",
     "output_type": "stream",
     "text": [
      "{'One': 1, 'Two': 2, 'Three': 3}\n",
      "{'One': 1, 'Two': 2, 'Three': 3}\n"
     ]
    }
   ],
   "source": [
    "def get_dict2 (keys: list, values: list) -> dict:\n",
    "    if len(keys) != len(values):\n",
    "        return None \n",
    "    return {keys[i]: values[i] for i in range(len(keys))}\n",
    "\n",
    "\n",
    "keys = ['One', 'Two', 'Three']\n",
    "values = [1, 2, 3]\n",
    "\n",
    "res_dict = get_dict2(keys, values) \n",
    "print(get_dict(keys, values))\n",
    "\n",
    "print({keys[i]: values[i] for i in range(len(keys))})                    # тоже самое, только отдельной строкой"
   ]
  },
  {
   "attachments": {},
   "cell_type": "markdown",
   "metadata": {},
   "source": [
    "### 2.3 ZIP ф-ий"
   ]
  },
  {
   "cell_type": "code",
   "execution_count": 21,
   "metadata": {},
   "outputs": [
    {
     "name": "stdout",
     "output_type": "stream",
     "text": [
      "{'One': 1, 'Two': 2, 'Three': 3}\n"
     ]
    }
   ],
   "source": [
    "keys = ['One', 'Two', 'Three']\n",
    "values = [1, 2, 3]\n",
    "\n",
    "res = dict(zip(keys, values))\n",
    "print(res)"
   ]
  },
  {
   "attachments": {},
   "cell_type": "markdown",
   "metadata": {},
   "source": [
    "## Задача 3\n",
    "### 3.1 Напишите функцию с циклом for\n",
    "Функция на вход принимает:\n",
    "исходный словарь\n",
    "ключи, которые нужно извлечь (аргумент по умолчанию)\n",
    "На выходе словарь с нужными ключами\n",
    "Используйте аннотирование типов"
   ]
  },
  {
   "cell_type": "code",
   "execution_count": 23,
   "metadata": {},
   "outputs": [
    {
     "name": "stdout",
     "output_type": "stream",
     "text": [
      "{'name': 'John', 'age': 25}\n",
      "{'city': 'Moscow'}\n"
     ]
    }
   ],
   "source": [
    "def get_key(dict1: dict, keys: list=['name', 'age']) -> dict:           # list=['name', 'age']) - устанавливаем значения по умолчанию. Если второй аргумент не передан, то будет по умолчанию\n",
    "    res = dict()\n",
    "    for i in keys:\n",
    "        if i in dict1.keys():                                           # если ключ есть в словаре dict, тогда добавляем в итоговый словарь\n",
    "            res[i] = dict1[i]                                           # res['name'] = dict['John'] - добавляем в словарь ключ name и значение Jhon\n",
    "    return res \n",
    "    \n",
    "\n",
    "\n",
    "\n",
    "client_dict = {\n",
    "    \"name\": \"John\",\n",
    "    \"age\": 25,\n",
    "    \"salary\": 5000,\n",
    "    \"city\": \"Moscow\"\n",
    "}\n",
    "\n",
    "print(get_key(client_dict))\n",
    "print(get_key(client_dict, ['city']))"
   ]
  },
  {
   "attachments": {},
   "cell_type": "markdown",
   "metadata": {},
   "source": [
    "### 3.2 Используя dict comprehensions"
   ]
  },
  {
   "cell_type": "code",
   "execution_count": 3,
   "metadata": {},
   "outputs": [
    {
     "name": "stdout",
     "output_type": "stream",
     "text": [
      "{'name': 'John', 'age': 25}\n",
      "{'city': 'Moscow'}\n"
     ]
    }
   ],
   "source": [
    "def get_key(dict1: dict, keys: list=['name', 'age']) -> dict:           # list=['name', 'age']) - устанавливаем значения по умолчанию. Если второй аргумент не передан, то будет по умолчанию\n",
    "    return {i: dict1[i] for i in keys if i in dict1.keys()}\n",
    "    \n",
    "\n",
    "\n",
    "\n",
    "client_dict = {\n",
    "    \"name\": \"John\",\n",
    "    \"age\": 25,\n",
    "    \"salary\": 5000,\n",
    "    \"city\": \"Moscow\"\n",
    "}\n",
    "\n",
    "print(get_key(client_dict))\n",
    "print(get_key(client_dict, ['city']))"
   ]
  },
  {
   "cell_type": "code",
   "execution_count": 7,
   "metadata": {},
   "outputs": [
    {
     "name": "stdout",
     "output_type": "stream",
     "text": [
      "{'city': 'Moscow'}\n",
      "{'city': 'Moscow', 'name': 'John'}\n"
     ]
    }
   ],
   "source": [
    "# код из чата\n",
    "def getKey2(sourceDict: dict, *keyList) -> dict:\n",
    "    return {k: sourceDict[k] for k in keyList if k in sourceDict.keys()}\n",
    "\n",
    "client_dict = {\n",
    "    \"name\": \"John\",\n",
    "    \"age\": 25,\n",
    "    \"salary\": 5000,\n",
    "    \"city\": \"Moscow\"\n",
    "}\n",
    "\n",
    "print(getKey2(client_dict, 'city'))\n",
    "print(getKey2(client_dict, 'city', 'name'))"
   ]
  },
  {
   "attachments": {},
   "cell_type": "markdown",
   "metadata": {},
   "source": [
    "## 4.1 Сгенерируйте случайные целые числа от 0 до 100 в количестве 5 штук с помощью модуля random\n",
    "### Зафиксируйте псевдогенерацию, чтобы сгенерированные значения всегда были одинаковые\n",
    "### Используйте list comprehensions"
   ]
  },
  {
   "cell_type": "code",
   "execution_count": 14,
   "metadata": {},
   "outputs": [
    {
     "name": "stdout",
     "output_type": "stream",
     "text": [
      "[79, 32, 94, 45, 88]\n",
      "[94, 83, 67, 3, 59]\n"
     ]
    }
   ],
   "source": [
    "import random\n",
    "random.seed(5)                      # зафиксировать псевдогенерацию\n",
    "\n",
    "list1 = [random.randint(0,100) for i in range(5)]\n",
    "print(list1)\n",
    "\n",
    "\n",
    "\n",
    "list2 = []\n",
    "for i in range(5):\n",
    "    a = random.randint(0, 100)\n",
    "    list2.append(a)\n",
    "print(list2)"
   ]
  },
  {
   "attachments": {},
   "cell_type": "markdown",
   "metadata": {},
   "source": [
    "## Задача 5"
   ]
  },
  {
   "attachments": {},
   "cell_type": "markdown",
   "metadata": {},
   "source": [
    "<img src=https://vsegda-pomnim.com/uploads/posts/2022-04/1651044254_69-vsegda-pomnim-com-p-shum-morya-foto-86.jpg \n",
    "width =500>"
   ]
  },
  {
   "attachments": {},
   "cell_type": "markdown",
   "metadata": {},
   "source": [
    "## Задача 5.1 ТАБЛИЦА\n",
    "<table>\n",
    "        <tr>\n",
    "            <td></td>\n",
    "            <td>До события</td>\n",
    "            <td>Во время события</td>\n",
    "        </tr>\n",
    "        <tr>\n",
    "            <td>1 контрольная строка</td>\n",
    "            <td>250</td>\n",
    "            <td>500</td>\n",
    "        </tr>\n",
    "        <tr>\n",
    "            <td>2 контрольная строка</td>\n",
    "            <td>350</td>\n",
    "            <td>700</td>\n",
    "        </tr>\n",
    "        <tr>\n",
    "            <td>3 контрольная строка</td>\n",
    "            <td>400</td>\n",
    "            <td>800</td>\n",
    "        </tr>\n",
    "        <tr>\n",
    "            <td>итого за победу</td>\n",
    "            <td>1000</td>\n",
    "            <td>2000</td>\n",
    "        </tr>\n",
    "    </table>"
   ]
  },
  {
   "attachments": {},
   "cell_type": "markdown",
   "metadata": {},
   "source": [
    "## Задача 6.\n",
    "Напишите функцию, которая может принимать любое количество трат пользователя и считать сумму и среднее.\n",
    "\n",
    "На вход поступают целочисленные значения в любом количестве\n",
    "\n",
    "На выходе словарь с ключами суммы трат и средней траты"
   ]
  },
  {
   "cell_type": "code",
   "execution_count": 16,
   "metadata": {},
   "outputs": [
    {
     "name": "stdout",
     "output_type": "stream",
     "text": [
      "{'sum_c': 12, 'mean': 6.0}\n",
      "{'sum_c': 12, 'mean': 3.0}\n"
     ]
    }
   ],
   "source": [
    "def calc(*args):                             # *args - будем принимать неограниченное кол-во аргументов\n",
    "    sum_c = sum(args)\n",
    "    mean = sum_c / len(args)\n",
    "    return{'sum_c': sum_c, \n",
    "           'mean' : mean }\n",
    "\n",
    "print(calc(7, 5))\n",
    "print(calc(1, 2, 4, 5))"
   ]
  }
 ],
 "metadata": {
  "kernelspec": {
   "display_name": "Python 3",
   "language": "python",
   "name": "python3"
  },
  "language_info": {
   "codemirror_mode": {
    "name": "ipython",
    "version": 3
   },
   "file_extension": ".py",
   "mimetype": "text/x-python",
   "name": "python",
   "nbconvert_exporter": "python",
   "pygments_lexer": "ipython3",
   "version": "3.11.2"
  },
  "orig_nbformat": 4
 },
 "nbformat": 4,
 "nbformat_minor": 2
}
